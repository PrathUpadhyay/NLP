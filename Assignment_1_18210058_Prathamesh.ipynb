{
  "nbformat": 4,
  "nbformat_minor": 0,
  "metadata": {
    "colab": {
      "name": "Assignment-1-18210058-Prathamesh.ipynb",
      "version": "0.3.2",
      "provenance": [],
      "collapsed_sections": [],
      "toc_visible": true,
      "include_colab_link": true
    },
    "kernelspec": {
      "name": "python3",
      "display_name": "Python 3"
    }
  },
  "cells": [
    {
      "cell_type": "markdown",
      "metadata": {
        "id": "view-in-github",
        "colab_type": "text"
      },
      "source": [
        "<a href=\"https://colab.research.google.com/github/PrathUpadhyay/NLP/blob/master/Assignment_1_18210058_Prathamesh.ipynb\" target=\"_parent\"><img src=\"https://colab.research.google.com/assets/colab-badge.svg\" alt=\"Open In Colab\"/></a>"
      ]
    },
    {
      "cell_type": "markdown",
      "metadata": {
        "id": "rWDZvOI1J69S",
        "colab_type": "text"
      },
      "source": [
        "### Ans 1 (explanation inline comments)"
      ]
    },
    {
      "cell_type": "code",
      "metadata": {
        "id": "muS90AnCIYux",
        "colab_type": "code",
        "outputId": "c106531d-7d25-47f3-8b41-45968d0aa09e",
        "colab": {
          "base_uri": "https://localhost:8080/",
          "height": 89
        }
      },
      "source": [
        "from google.colab import drive\n",
        "import pandas as pd\n",
        "import nltk\n",
        "from nltk.tokenize import sent_tokenize, word_tokenize\n",
        "import re\n",
        "\n",
        "nltk.download('punkt')\n",
        "\n",
        "drive.mount(\"/content/drive\")"
      ],
      "execution_count": 0,
      "outputs": [
        {
          "output_type": "stream",
          "text": [
            "[nltk_data] Downloading package punkt to /root/nltk_data...\n",
            "[nltk_data]   Package punkt is already up-to-date!\n",
            "Drive already mounted at /content/drive; to attempt to forcibly remount, call drive.mount(\"/content/drive\", force_remount=True).\n"
          ],
          "name": "stdout"
        }
      ]
    },
    {
      "cell_type": "code",
      "metadata": {
        "id": "oFx7_xxaInZ2",
        "colab_type": "code",
        "outputId": "ea63f609-7d45-4611-ee36-119300fa447a",
        "colab": {
          "base_uri": "https://localhost:8080/",
          "height": 69
        }
      },
      "source": [
        "# read file from google-drive, colab doesnt keeps uploaded files persistently\n",
        "tweets_csv = pd.read_csv('drive/My Drive/Colab Notebooks/content/tweets-dataset.csv')\n",
        "\n",
        "word_dict = {}\n",
        "\n",
        "tokens = 0\n",
        "types = 0\n",
        "\n",
        "punctuation_regex = \"[A-Za-z0-9]*\"\n",
        "\n",
        "for sentence in tweets_csv.Sentence:\n",
        "  words = nltk.word_tokenize(sentence)\n",
        "\n",
        "  for word in words:\n",
        "    word = word.lower()\n",
        "    word = (re.match(punctuation_regex, word)).group(0)\n",
        "    if word ==\"\":\n",
        "        continue;\n",
        "    tokens += 1\n",
        "    if word in word_dict:\n",
        "      word_dict[word] += 1\n",
        "    else:\n",
        "      word_dict[word] = 1\n",
        "\n",
        "types = len(word_dict)\n",
        "types_2 = len(word_dict.keys())\n",
        "ttr = types/tokens\n",
        "\n",
        "print (\"No of tokens: \", tokens)\n",
        "print (\"No of types: \", types, types_2)\n",
        "print (\"TTR: \", ttr)\n",
        "\n",
        "# import operator\n",
        "# out = sorted(word_dict.items(), key=operator.itemgetter(1))\n",
        "\n",
        "# import pprint\n",
        "# pprint.pprint(out)\n"
      ],
      "execution_count": 0,
      "outputs": [
        {
          "output_type": "stream",
          "text": [
            "No of tokens:  312997\n",
            "No of types:  36300 36300\n",
            "TTR:  0.11597555248133369\n"
          ],
          "name": "stdout"
        }
      ]
    },
    {
      "cell_type": "markdown",
      "metadata": {
        "id": "avvaU3yXJcse",
        "colab_type": "text"
      },
      "source": [
        "### Ans 2 (explanation inline comments)"
      ]
    },
    {
      "cell_type": "code",
      "metadata": {
        "id": "sLaVF4xPJei9",
        "colab_type": "code",
        "outputId": "820b4190-0fd4-4e3b-8a05-db82bfc2c4df",
        "colab": {
          "base_uri": "https://localhost:8080/",
          "height": 347
        }
      },
      "source": [
        "# Zipfs Law for relation between  and frequency\n",
        "\n",
        "from matplotlib import pyplot\n",
        "# from nltk.corpus import wordnet\n",
        "nltk.download('wordnet')\n",
        "\n",
        "\n",
        "# some random meaningful words taken from dataset and their frequency\n",
        "word_freq_dict = {\n",
        "    'tomorrow': 423,\n",
        "    'time': 382,\n",
        "    'have': 348,\n",
        "    'like': 346,\n",
        "    'atheist': 239,\n",
        "    'good': 224,\n",
        "    'love': 220,\n",
        "    'night': 192,\n",
        "    'party': 183,\n",
        "    'twitter': 158,\n",
        "    'please': 137,\n",
        "    'photo': 82,\n",
        "    'morning': 76,\n",
        "    'play': 70,\n",
        "    'insane': 69,\n",
        "    'birthday': 64,\n",
        "    'police': 58,\n",
        "    'power': 55,\n",
        "    'story': 53,\n",
        "    'help': 50,\n",
        "    'jail': 49,\n",
        "    'public': 47\n",
        "}\n",
        "\n",
        "word_meaning_count_dict = {}\n",
        "\n",
        "for word in word_freq_dict:\n",
        "  word_meaning_count_dict[word] = len(wordnet.synsets(word))\n",
        "\n",
        "# print(word_meaning_count_dict)\n",
        "# print()\n",
        "\n",
        "pyplot.plot(word_freq_dict.values(), word_meaning_count_dict.values(), '*')\n",
        "pyplot.title(\"Frequency vs Number of Meanings - Zipf's Law\")\n",
        "pyplot.xlabel('Frequency')\n",
        "pyplot.ylabel('No of Meanings')\n",
        "pyplot.show()\n",
        "print('       No of Meanings ∝ √(Frequency of words)')"
      ],
      "execution_count": 0,
      "outputs": [
        {
          "output_type": "stream",
          "text": [
            "[nltk_data] Downloading package wordnet to /root/nltk_data...\n",
            "[nltk_data]   Package wordnet is already up-to-date!\n"
          ],
          "name": "stdout"
        },
        {
          "output_type": "display_data",
          "data": {
            "image/png": "[encoded data removed]",
            "text/plain": [
              "<Figure size 432x288 with 1 Axes>"
            ]
          },
          "metadata": {
            "tags": []
          }
        },
        {
          "output_type": "stream",
          "text": [
            "       No of Meanings ∝ √(Frequency of words)\n"
          ],
          "name": "stdout"
        }
      ]
    },
    {
      "cell_type": "code",
      "metadata": {
        "id": "4F0q2EpA1g5j",
        "colab_type": "code",
        "outputId": "52020962-c575-4d6a-a06c-9fd5d5062a83",
        "colab": {
          "base_uri": "https://localhost:8080/",
          "height": 313
        }
      },
      "source": [
        "# Zipfs Law for relation between length and frequency\n",
        "\n",
        "zipf_len_words = []\n",
        "zipf_freq_words = []\n",
        "\n",
        "import operator\n",
        "for key, val in reversed(sorted(word_dict.items(), key = operator.itemgetter(1))):\n",
        "    zipf_len_words.append(len(key))\n",
        "    zipf_freq_words.append(val)\n",
        "\n",
        "pyplot.plot(zipf_freq_words, zipf_len_words)\n",
        "pyplot.title(\"Frequency vs Length of Words - Zipf's Law\")\n",
        "pyplot.xlabel('Frequency')\n",
        "pyplot.ylabel('Length of words')\n",
        "pyplot.show()\n",
        "print('Length of word ∝ 1/Frequency')"
      ],
      "execution_count": 0,
      "outputs": [
        {
          "output_type": "display_data",
          "data": {
            "image/png": "[encoded data removed]",
            "text/plain": [
              "<Figure size 432x288 with 1 Axes>"
            ]
          },
          "metadata": {
            "tags": []
          }
        },
        {
          "output_type": "stream",
          "text": [
            "Length of word ∝ 1/Frequency\n"
          ],
          "name": "stdout"
        }
      ]
    },
    {
      "cell_type": "markdown",
      "metadata": {
        "id": "m4bfPGI-3dXg",
        "colab_type": "text"
      },
      "source": [
        "### Ans 3 (explanation inline comments)"
      ]
    },
    {
      "cell_type": "code",
      "metadata": {
        "id": "O0VEv_hz3hQM",
        "colab_type": "code",
        "outputId": "0e7295f3-2a9b-4282-b857-66b67f2cba76",
        "colab": {
          "base_uri": "https://localhost:8080/",
          "height": 330
        }
      },
      "source": [
        "import numpy as np\n",
        "\n",
        "token_per_segment_list = []\n",
        "word_per_segment_list = []\n",
        "\n",
        "token_per_segment_count = 0\n",
        "word_per_segment_dict = {}\n",
        "\n",
        "# Here we pick each sentence one-by-one and record word & tokens in that\n",
        "# Finally this data will be used for displaying Heap's Law\n",
        "\n",
        "for section in tweets_csv.Sentence:\n",
        "  words = nltk.word_tokenize(section)\n",
        "\n",
        "  for word in words:\n",
        "    word = word.lower()\n",
        "    word = (re.match(punctuation_regex, word)).group(0)\n",
        "    if word ==\"\":\n",
        "        continue;\n",
        "    token_per_segment_count += 1\n",
        "    if word in word_per_segment_dict:\n",
        "      word_per_segment_dict[word] += 1\n",
        "    else:\n",
        "      word_per_segment_dict[word] = 1\n",
        "\n",
        "    # Now keep record of this section's cumulative token count and vocabulray size  \n",
        "    token_per_segment_list.append(token_per_segment_count)\n",
        "    word_per_segment_list.append(len(word_per_segment_dict))    \n",
        "\n",
        "\n",
        "pyplot.plot(token_per_segment_list, word_per_segment_list,'*')\n",
        "pyplot.xlabel('No of Tokens')\n",
        "pyplot.ylabel('Vocabulary Size')\n",
        "pyplot.title(\"Heaps’ Law\")\n",
        "pyplot.show()\n",
        "\n",
        "print(\"k = intercept of graph, beta = slope of graph\")\n",
        "\n",
        "slope, intercept = np.polyfit(np.log(token_per_segment_list), np.log(word_per_segment_list), 1)\n",
        "\n",
        "print(\"Value of beta:\", slope,\"   value of k:\", np.exp(intercept))\n"
      ],
      "execution_count": 0,
      "outputs": [
        {
          "output_type": "display_data",
          "data": {
            "image/png": "[encoded data removed]",
            "text/plain": [
              "<Figure size 432x288 with 1 Axes>"
            ]
          },
          "metadata": {
            "tags": []
          }
        },
        {
          "output_type": "stream",
          "text": [
            "k = intercept of graph, beta = slope of graph\n",
            "Value of beta: 0.661946605508796    value of k: 8.703950713714683\n"
          ],
          "name": "stdout"
        }
      ]
    }
  ]
}